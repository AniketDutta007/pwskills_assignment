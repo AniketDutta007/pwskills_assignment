{
 "cells": [
  {
   "cell_type": "markdown",
   "id": "1251c5fc-b0b8-4b6a-85da-33ddd1d92474",
   "metadata": {},
   "source": [
    "## Assignment Solution"
   ]
  },
  {
   "cell_type": "markdown",
   "id": "ec10495a-16fb-4840-91c9-50c938a0fd79",
   "metadata": {},
   "source": [
    "Q1. You are writing code for a company. The requirement of the company is that you create a python function that will check whether the password entered by the user is correct or not. The function should take the password as input and return the string `“Valid Password”` if the entered password follows the below-given password guidelines else it should return `“Invalid Password”`.\n",
    "<br/>\n",
    "Note: \n",
    "1. The Password should contain at least two uppercase letters and at least two lowercase letters.\n",
    "2. The Password should contain at least a number and three special characters.\n",
    "3. The length of the password should be 10 characters long."
   ]
  },
  {
   "cell_type": "code",
   "execution_count": 1,
   "id": "2ca55f7b-4057-418e-9738-7036c4b09e75",
   "metadata": {},
   "outputs": [],
   "source": [
    "def isValidPassword(password):\n",
    "    uc = 0\n",
    "    lc = 0\n",
    "    no = 0\n",
    "    sc = 0\n",
    "    if len(password) != 10:\n",
    "        return \"Invalid Password\"\n",
    "    else:\n",
    "        for c in list(password):\n",
    "            if c.isalpha():\n",
    "                if c.isupper():\n",
    "                    uc = uc + 1\n",
    "                else:\n",
    "                    lc = lc + 1\n",
    "            elif c.isdigit():\n",
    "                no = no + 1\n",
    "            else:\n",
    "                sc = sc + 1\n",
    "        return 2 <= uc and 2 <= lc and 1 <= no and sc == 3"
   ]
  },
  {
   "cell_type": "markdown",
   "id": "a68e9557-c323-4288-8642-7f5652e8dee1",
   "metadata": {},
   "source": [
    "Q2. Solve the below-given questions using at least one of the following:\n",
    "1. Lambda function\n",
    "2. Filter function\n",
    "3. Map function\n",
    "4. List Comprehension\n",
    "- Check if the string starts with a particular letter.\n",
    "- Check if the string is numeric.\n",
    "- Sort a list of tuples having fruit names and their quantity. `[(\"mango\",99),(\"orange\",80), (\"grapes\", 1000)]`\n",
    "- Find the squares of numbers from 1 to 10.\n",
    "- Find the cube root of numbers from 1 to 10.\n",
    "- Check if a given number is even.\n",
    "- Filter odd numbers from the given list.\n",
    "\t`[1,2,3,4,5,6,7,8,9,10]`\n",
    "- Sort a list of integers into positive and negative integers lists.\n",
    "\t`[1,2,3,4,5,6,-1,-2,-3,-4,-5,0]`"
   ]
  },
  {
   "cell_type": "code",
   "execution_count": 4,
   "id": "8ccc88da-1c9a-4a72-aed6-6f03f883960d",
   "metadata": {},
   "outputs": [
    {
     "data": {
      "text/plain": [
       "['apple', 'avocado', 'apricot']"
      ]
     },
     "execution_count": 4,
     "metadata": {},
     "output_type": "execute_result"
    }
   ],
   "source": [
    "ch = 'a'\n",
    "words = [\"apple\", \"banana\", \"avocado\", \"cherry\", \"apricot\", \"blueberry\"]\n",
    "list(filter(lambda s : s[0] == ch, words))"
   ]
  },
  {
   "cell_type": "code",
   "execution_count": 5,
   "id": "df2effb1-2f00-4995-975f-27563ce5d86f",
   "metadata": {},
   "outputs": [
    {
     "data": {
      "text/plain": [
       "['1', '3', '4', '6', '8', '9', '10']"
      ]
     },
     "execution_count": 5,
     "metadata": {},
     "output_type": "execute_result"
    }
   ],
   "source": [
    "num_strings = [\"1\", 2, \"3\", \"4\", 5, \"6\", 8, \"8\", \"9\", \"10\"]\n",
    "list(filter(lambda n : isinstance(n, str) and n.isdigit(), num_strings))"
   ]
  },
  {
   "cell_type": "code",
   "execution_count": 1,
   "id": "88d80b51-e6bf-4f7e-bf03-de4a6290a1f3",
   "metadata": {},
   "outputs": [
    {
     "data": {
      "text/plain": [
       "[('grapes', 1000), ('mango', 99), ('orange', 80)]"
      ]
     },
     "execution_count": 1,
     "metadata": {},
     "output_type": "execute_result"
    }
   ],
   "source": [
    "lst = [(\"mango\",99),(\"orange\",80), (\"grapes\", 1000)]\n",
    "sorted(lst, key = lambda t : (t[0], t[1]))"
   ]
  },
  {
   "cell_type": "code",
   "execution_count": 3,
   "id": "c015370d-571a-495f-96c0-774ac7af3e61",
   "metadata": {},
   "outputs": [
    {
     "data": {
      "text/plain": [
       "[1, 4, 9, 16, 25, 36, 49, 64, 81, 100]"
      ]
     },
     "execution_count": 3,
     "metadata": {},
     "output_type": "execute_result"
    }
   ],
   "source": [
    "list(map(lambda x : x ** 2, [ i for i in range(1, 11) ]))"
   ]
  },
  {
   "cell_type": "code",
   "execution_count": 4,
   "id": "8d69a020-264e-4bf8-b0d9-f2a4c5243561",
   "metadata": {},
   "outputs": [
    {
     "data": {
      "text/plain": [
       "[1.0,\n",
       " 1.2599210498948732,\n",
       " 1.4422495703074083,\n",
       " 1.5874010519681994,\n",
       " 1.7099759466766968,\n",
       " 1.8171205928321397,\n",
       " 1.912931182772389,\n",
       " 2.0,\n",
       " 2.080083823051904,\n",
       " 2.154434690031884]"
      ]
     },
     "execution_count": 4,
     "metadata": {},
     "output_type": "execute_result"
    }
   ],
   "source": [
    "[ pow(i, 1/3) for i in range(1, 11) ]"
   ]
  },
  {
   "cell_type": "code",
   "execution_count": 5,
   "id": "b5c624e0-4f73-48e5-881f-5b21f9fe3369",
   "metadata": {},
   "outputs": [],
   "source": [
    "is_even = lambda n : n % 2 == 0"
   ]
  },
  {
   "cell_type": "code",
   "execution_count": 6,
   "id": "7251c8ba-a64f-49c4-b52c-71a45bd37d9f",
   "metadata": {},
   "outputs": [
    {
     "data": {
      "text/plain": [
       "[1, 3, 5, 7, 9]"
      ]
     },
     "execution_count": 6,
     "metadata": {},
     "output_type": "execute_result"
    }
   ],
   "source": [
    "list(filter(lambda n : n % 2 == 1, [1,2,3,4,5,6,7,8,9,10]))"
   ]
  },
  {
   "cell_type": "code",
   "execution_count": 13,
   "id": "23deb408-5c32-4977-b925-c8ec496ff97d",
   "metadata": {},
   "outputs": [
    {
     "name": "stdout",
     "output_type": "stream",
     "text": [
      "[0, 1, 2, 3, 4, 5, 6]\n",
      "[-5, -4, -3, -2, -1]\n"
     ]
    }
   ],
   "source": [
    "lst = [1,2,3,4,5,6,-1,-2,-3,-4,-5,0]\n",
    "\n",
    "positives = sorted(list(filter(lambda n : 0 <= n, lst)))\n",
    "negatives = sorted(list(filter(lambda n : n < 0, lst)))\n",
    "\n",
    "print(positives)\n",
    "print(negatives)"
   ]
  }
 ],
 "metadata": {
  "kernelspec": {
   "display_name": "Python 3 (ipykernel)",
   "language": "python",
   "name": "python3"
  },
  "language_info": {
   "codemirror_mode": {
    "name": "ipython",
    "version": 3
   },
   "file_extension": ".py",
   "mimetype": "text/x-python",
   "name": "python",
   "nbconvert_exporter": "python",
   "pygments_lexer": "ipython3",
   "version": "3.10.8"
  }
 },
 "nbformat": 4,
 "nbformat_minor": 5
}
