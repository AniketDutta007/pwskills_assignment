{
 "cells": [
  {
   "cell_type": "markdown",
   "id": "8893e8c6-299c-4b0d-a11a-192bd48dda6a",
   "metadata": {},
   "source": [
    "## Assignment Solution"
   ]
  },
  {
   "cell_type": "markdown",
   "id": "c6c20390-6f5f-4362-b88f-b47ea70e8cc7",
   "metadata": {},
   "source": [
    "Q1. Which keyword is used to create a function? Create a function to return a list of odd numbers in the\n",
    "range of 1 to 25."
   ]
  },
  {
   "cell_type": "markdown",
   "id": "7626ba01-9df0-4881-b805-9562a4453202",
   "metadata": {},
   "source": [
    "`def` keyword is used to create/define a function."
   ]
  },
  {
   "cell_type": "code",
   "execution_count": 6,
   "id": "715c5c5f-f27e-4d3a-a800-c553ee78dd18",
   "metadata": {},
   "outputs": [],
   "source": [
    "def fun() :\n",
    "    return [i for i in range(1, 26, 2)]"
   ]
  },
  {
   "cell_type": "code",
   "execution_count": 7,
   "id": "73004d73-ee47-4908-9089-896eb7dc08bc",
   "metadata": {},
   "outputs": [
    {
     "data": {
      "text/plain": [
       "[1, 3, 5, 7, 9, 11, 13, 15, 17, 19, 21, 23, 25]"
      ]
     },
     "execution_count": 7,
     "metadata": {},
     "output_type": "execute_result"
    }
   ],
   "source": [
    "fun()"
   ]
  },
  {
   "cell_type": "markdown",
   "id": "a6b23e12-ba9a-4091-aab1-65e3453bfd96",
   "metadata": {},
   "source": [
    "Q2. Why `*args` and `**kwargs` is used in some functions? Create a function each for `*args` and `**kwargs` to\n",
    "demonstrate their use."
   ]
  },
  {
   "cell_type": "markdown",
   "id": "5a1485c1-1d92-4581-914e-1655a16dd8c9",
   "metadata": {},
   "source": [
    "`*args` are used in functions where the input parameters length is not constant, whereas the `**kwargs` are used in function where the input parameters length is not constant moreover we need named input parameters."
   ]
  },
  {
   "cell_type": "code",
   "execution_count": 3,
   "id": "cc90c967-4e09-46c7-84c1-28e6ad12b6b1",
   "metadata": {},
   "outputs": [],
   "source": [
    "def fun(*args) :\n",
    "    even = 0\n",
    "    odd = 0\n",
    "    for i in args :\n",
    "        if i % 2 == 0 :\n",
    "            even = even + i\n",
    "        else :\n",
    "            odd = odd + i\n",
    "    return (even, odd)"
   ]
  },
  {
   "cell_type": "code",
   "execution_count": 4,
   "id": "9ee2fd52-8404-4a80-b456-bb4a3aafb81c",
   "metadata": {},
   "outputs": [
    {
     "data": {
      "text/plain": [
       "(18, 15)"
      ]
     },
     "execution_count": 4,
     "metadata": {},
     "output_type": "execute_result"
    }
   ],
   "source": [
    "fun(1, 6, 5, 9, 6, 4, 2)"
   ]
  },
  {
   "cell_type": "code",
   "execution_count": 15,
   "id": "b90328af-41c0-4d90-8c6a-52252f9f1362",
   "metadata": {},
   "outputs": [],
   "source": [
    "def fun(**kwargs) :\n",
    "    a = kwargs['a']\n",
    "    b = kwargs['b']\n",
    "    op = kwargs['op']\n",
    "    if op == 1 :\n",
    "        return a + b\n",
    "    elif op == 2 :\n",
    "        return a - b\n",
    "    elif op == 3 :\n",
    "        return a * b\n",
    "    elif op == 4 :\n",
    "        return a // b\n",
    "    else :\n",
    "        return a % b"
   ]
  },
  {
   "cell_type": "code",
   "execution_count": 16,
   "id": "c7a87f54-f3d1-46cc-a2c2-91bd8adccbd2",
   "metadata": {},
   "outputs": [
    {
     "data": {
      "text/plain": [
       "736"
      ]
     },
     "execution_count": 16,
     "metadata": {},
     "output_type": "execute_result"
    }
   ],
   "source": [
    "fun(a=23, b=32, op=3)"
   ]
  },
  {
   "cell_type": "markdown",
   "id": "3608b3fd-2d1b-4a06-a098-ddbb3675880f",
   "metadata": {},
   "source": [
    "Q3. What is an iterator in python? Name the method used to initialise the iterator object and the method\n",
    "used for iteration. Use these methods to print the first five elements of the given list `[2, 4, 6, 8, 10, 12, 14, 16, 18, 20]`."
   ]
  },
  {
   "cell_type": "markdown",
   "id": "ed688f48-709f-45c4-a2b9-8a416dc047e0",
   "metadata": {},
   "source": [
    "An iterator in python is an object that is used to iterate over iteratable objects in python.\n",
    "<br/>\n",
    " - `__iter__()`: method is used to initialise the iterator\n",
    "<br/>\n",
    " - `__next__()`: method is used for iteration to iterate over the object"
   ]
  },
  {
   "cell_type": "code",
   "execution_count": 17,
   "id": "398378d4-1a01-4f95-bd0a-5c2e8743f0d9",
   "metadata": {},
   "outputs": [
    {
     "name": "stdout",
     "output_type": "stream",
     "text": [
      "2\n",
      "4\n",
      "6\n",
      "8\n",
      "10\n"
     ]
    }
   ],
   "source": [
    "a = [2, 4, 6, 8, 10, 12, 14, 16, 18, 20]\n",
    "a_iterator = iter(a)\n",
    "for _ in range(5) :\n",
    "    print(next(a_iterator))"
   ]
  },
  {
   "cell_type": "markdown",
   "id": "7380c746-e25b-4f9c-8506-939cdeb146b8",
   "metadata": {},
   "source": [
    "Q4. What is a generator function in python? Why `yield` keyword is used? Give an example of a generator\n",
    "function."
   ]
  },
  {
   "cell_type": "markdown",
   "id": "7cc2ebe5-09cf-40ec-b78e-09357bc99ed4",
   "metadata": {},
   "source": [
    "A generator function in python is a special type of function allowing to iterate over it's values one at a time, moreover when it's executed it returns a generator function which uses an iterator to fetch the values one by one.\n",
    "<br/>\n",
    "The `yield` keyword is used in generator function to store the value instead of `return` as used in normal function."
   ]
  },
  {
   "cell_type": "code",
   "execution_count": 19,
   "id": "7c30515d-7805-4b74-be8f-4345d8b11ffa",
   "metadata": {},
   "outputs": [],
   "source": [
    "def fib(n) :\n",
    "    a, b = 0, 1\n",
    "    for _ in range(n) :\n",
    "        yield a\n",
    "        a, b = b, a + b"
   ]
  },
  {
   "cell_type": "code",
   "execution_count": 21,
   "id": "4fba9e76-b58e-454e-bb5b-c1c06e35d89d",
   "metadata": {},
   "outputs": [
    {
     "name": "stdout",
     "output_type": "stream",
     "text": [
      "[0, 1, 1, 2, 3, 5, 8, 13, 21, 34]\n"
     ]
    }
   ],
   "source": [
    "print([i for i in fib(10)])"
   ]
  },
  {
   "cell_type": "markdown",
   "id": "24791034-1c24-4378-b249-955c9ad8e642",
   "metadata": {},
   "source": [
    "Q5. Create a generator function for prime numbers less than 1000. Use the `next()` method to print the first 20 prime numbers."
   ]
  },
  {
   "cell_type": "code",
   "execution_count": 1,
   "id": "0ef42e25-c4ac-46a6-85c8-3737e363aefe",
   "metadata": {},
   "outputs": [],
   "source": [
    "import math\n",
    "\n",
    "def isPrime(n) :\n",
    "    if n == 2 :\n",
    "        return True\n",
    "    for i in range(2, int(math.sqrt(n)) + 1) :\n",
    "        if n % i == 0 :\n",
    "            return False\n",
    "    return True"
   ]
  },
  {
   "cell_type": "code",
   "execution_count": 2,
   "id": "d9963335-b3b1-4611-89ca-47e213c5cbc0",
   "metadata": {},
   "outputs": [],
   "source": [
    "def genPrime1000() :\n",
    "    for i in range(2, 1001) :\n",
    "        if isPrime(i) :\n",
    "            yield i"
   ]
  },
  {
   "cell_type": "code",
   "execution_count": 4,
   "id": "d45924e2-59c6-4e92-b76b-7c449f0b36ef",
   "metadata": {},
   "outputs": [
    {
     "name": "stdout",
     "output_type": "stream",
     "text": [
      "2\n",
      "3\n",
      "5\n",
      "7\n",
      "11\n",
      "13\n",
      "17\n",
      "19\n",
      "23\n",
      "29\n",
      "31\n",
      "37\n",
      "41\n",
      "43\n",
      "47\n",
      "53\n",
      "59\n",
      "61\n",
      "67\n",
      "71\n"
     ]
    }
   ],
   "source": [
    "iterator = genPrime1000()\n",
    "for _ in range(20) :\n",
    "    print(next(iterator))"
   ]
  }
 ],
 "metadata": {
  "kernelspec": {
   "display_name": "Python 3 (ipykernel)",
   "language": "python",
   "name": "python3"
  },
  "language_info": {
   "codemirror_mode": {
    "name": "ipython",
    "version": 3
   },
   "file_extension": ".py",
   "mimetype": "text/x-python",
   "name": "python",
   "nbconvert_exporter": "python",
   "pygments_lexer": "ipython3",
   "version": "3.10.8"
  }
 },
 "nbformat": 4,
 "nbformat_minor": 5
}
