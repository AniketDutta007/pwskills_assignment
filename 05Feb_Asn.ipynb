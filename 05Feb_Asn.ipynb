{
 "cells": [
  {
   "cell_type": "markdown",
   "id": "dfbb43a1-f00a-4db0-ab17-722d0aab4d6e",
   "metadata": {},
   "source": [
    "## Assignment Solution"
   ]
  },
  {
   "cell_type": "markdown",
   "id": "0cbb46e9-0aa9-495b-a271-0226d807a8b8",
   "metadata": {},
   "source": [
    "Q1. Explain Class and Object with respect to Object-Oriented Programming. Give a suitable example."
   ]
  },
  {
   "cell_type": "markdown",
   "id": "b729e69e-14cc-4309-88ae-f0a27dbdf636",
   "metadata": {},
   "source": [
    "Class is the blueprint of an object or logical representation of an object, it's the template used to create objects and to define object data types and methods, it's not a real entity and doesn't exist in the memory.\n",
    "<br/>\n",
    "Object is the instance of a class, it is a real entity which exists in the memory."
   ]
  },
  {
   "cell_type": "code",
   "execution_count": 1,
   "id": "c87de9bd-c8ed-4940-9da6-2cccf105d753",
   "metadata": {},
   "outputs": [],
   "source": [
    "# Class Definition\n",
    "class Student:\n",
    "    def __init__(self, name, department, reg_no):\n",
    "        self.name = name\n",
    "        self.department = department\n",
    "        self.reg_no = reg_no\n",
    "    def __str__(self):\n",
    "        return f'Student : \\n\\tName : {self.name}\\n\\tDepartment : {self.department}\\n\\tReg. No : {self.reg_no}'"
   ]
  },
  {
   "cell_type": "code",
   "execution_count": 2,
   "id": "c7914be2-1f33-4240-92d9-de634d834445",
   "metadata": {},
   "outputs": [],
   "source": [
    "# Object Creation\n",
    "Aniket = Student(\"Aniket Dutta\", \"Information Technology\", \"21/158\")"
   ]
  },
  {
   "cell_type": "code",
   "execution_count": 3,
   "id": "7f5467b3-219c-402c-ac98-7f4884659d51",
   "metadata": {},
   "outputs": [
    {
     "name": "stdout",
     "output_type": "stream",
     "text": [
      "Student : \n",
      "\tName : Aniket Dutta\n",
      "\tDepartment : Information Technology\n",
      "\tReg. No : 21/158\n"
     ]
    }
   ],
   "source": [
    "print(Aniket)"
   ]
  },
  {
   "cell_type": "markdown",
   "id": "028d2ebf-15ec-41a3-b2ad-3e956c6a5f47",
   "metadata": {},
   "source": [
    "Q2. Name the four pillars of OOPs."
   ]
  },
  {
   "cell_type": "markdown",
   "id": "0ed0e7bd-87e7-4696-bb2b-885594b17107",
   "metadata": {},
   "source": [
    "Four pillars of OOPs :\n",
    " - Inheritance\n",
    " - Abstraction\n",
    " - Encapsulation\n",
    " - Polymorphism"
   ]
  },
  {
   "cell_type": "markdown",
   "id": "c8ff423c-3a2b-4d06-bc33-639ae454cf0d",
   "metadata": {},
   "source": [
    "Q3. Explain why the `__init__()` function is used. Give a suitable example."
   ]
  },
  {
   "cell_type": "markdown",
   "id": "71cef7e1-2f5d-4d1d-8e05-4870cf300e29",
   "metadata": {},
   "source": [
    "The `__init__()` function is known as the Constructor of a Class and it is responsible for initializing the instance members on creation of an object."
   ]
  },
  {
   "cell_type": "code",
   "execution_count": 4,
   "id": "b0401ab0-5e34-459a-9dbf-22e8aed85204",
   "metadata": {},
   "outputs": [],
   "source": [
    "class Text:\n",
    "    def __init__(self, content):\n",
    "        self.content = content"
   ]
  },
  {
   "cell_type": "markdown",
   "id": "f6e714ad-2d09-4c17-a166-9b036de89749",
   "metadata": {},
   "source": [
    "Q4. Why `self` is used in OOPs?"
   ]
  },
  {
   "cell_type": "markdown",
   "id": "fee4ed77-2d20-43d0-adac-d6a98a351725",
   "metadata": {},
   "source": [
    "The `self` keyword is used in member methods to access the current object which they are a part of, it can be used to access the instance variables if required."
   ]
  },
  {
   "cell_type": "markdown",
   "id": "4dbcbf81-6e01-4b47-a23f-7daaa8105416",
   "metadata": {},
   "source": [
    "Q5. What is inheritance? Give an example for each type of inheritance."
   ]
  },
  {
   "cell_type": "markdown",
   "id": "e0a3827a-5e3b-420b-95b0-0ebfac117340",
   "metadata": {},
   "source": [
    "Inheritance is one of the four pillars of OOPs, it the property by virtue of which the sub class (child class) can derive from the properties of the super class (parent class). It provides the feature of code reusability."
   ]
  },
  {
   "cell_type": "code",
   "execution_count": 7,
   "id": "e7ab5069-a590-43a1-9e62-987791d93e0c",
   "metadata": {},
   "outputs": [],
   "source": [
    "class Vehicle:\n",
    "    def __init__(self, no_of_wheels):\n",
    "        self.no_of_wheels = no_of_wheels\n",
    "class Car(Vehicle):\n",
    "    def __init__(self, name):\n",
    "        super().__init__(4)\n",
    "        self.name = name"
   ]
  },
  {
   "cell_type": "code",
   "execution_count": 9,
   "id": "23324093-98cd-4b8a-9038-3b6104c1a148",
   "metadata": {},
   "outputs": [
    {
     "name": "stdout",
     "output_type": "stream",
     "text": [
      "Toyota\n",
      "4\n"
     ]
    }
   ],
   "source": [
    "Toyota = Car(\"Toyota\")\n",
    "print(Toyota.name)\n",
    "print(Toyota.no_of_wheels)"
   ]
  }
 ],
 "metadata": {
  "kernelspec": {
   "display_name": "Python 3 (ipykernel)",
   "language": "python",
   "name": "python3"
  },
  "language_info": {
   "codemirror_mode": {
    "name": "ipython",
    "version": 3
   },
   "file_extension": ".py",
   "mimetype": "text/x-python",
   "name": "python",
   "nbconvert_exporter": "python",
   "pygments_lexer": "ipython3",
   "version": "3.10.8"
  }
 },
 "nbformat": 4,
 "nbformat_minor": 5
}
