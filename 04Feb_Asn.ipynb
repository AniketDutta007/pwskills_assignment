{
 "cells": [
  {
   "cell_type": "markdown",
   "id": "52bb3c53-4c93-4306-b8a9-ef61003d5864",
   "metadata": {},
   "source": [
    "## Assignment Solution"
   ]
  },
  {
   "cell_type": "markdown",
   "id": "4850b521-a26c-45b0-a22a-b63f1a80d30d",
   "metadata": {},
   "source": [
    "Q1. Create a python program to sort the given list of tuples based on integer value using a\n",
    "lambda function.\n",
    "<br/>\n",
    "`[('Sachin Tendulkar', 34357), ('Ricky Ponting', 27483), ('Jack Kallis', 25534), ('Virat Kohli', 24936)]`"
   ]
  },
  {
   "cell_type": "code",
   "execution_count": 1,
   "id": "472d54a2-8734-4e30-ba61-38862cff93e1",
   "metadata": {},
   "outputs": [
    {
     "name": "stdout",
     "output_type": "stream",
     "text": [
      "[('Virat Kohli', 24936), ('Jack Kallis', 25534), ('Ricky Ponting', 27483), ('Sachin Tendulkar', 34357)]\n"
     ]
    }
   ],
   "source": [
    "data = [('Sachin Tendulkar', 34357), ('Ricky Ponting', 27483), ('Jack Kallis', 25534), ('Virat Kohli', 24936)]\n",
    "data.sort(key=lambda t : t[1])\n",
    "print(data)"
   ]
  },
  {
   "cell_type": "markdown",
   "id": "fe9107b6-696e-4b7c-b526-2f29628e8e17",
   "metadata": {},
   "source": [
    "Q2. Write a Python Program to find the squares of all the numbers in the given list of integers using\n",
    "lambda and map functions.\n",
    "<br/>\n",
    "`[1, 2, 3, 4, 5, 6, 7, 8, 9, 10]`"
   ]
  },
  {
   "cell_type": "code",
   "execution_count": 2,
   "id": "548afddc-7f1b-4dc0-89ef-143264f9df53",
   "metadata": {},
   "outputs": [
    {
     "data": {
      "text/plain": [
       "[1, 4, 9, 16, 25, 36, 49, 64, 81, 100]"
      ]
     },
     "execution_count": 2,
     "metadata": {},
     "output_type": "execute_result"
    }
   ],
   "source": [
    "l = [1, 2, 3, 4, 5, 6, 7, 8, 9, 10]\n",
    "\n",
    "list(map(lambda n : n ** 2, l))"
   ]
  },
  {
   "cell_type": "markdown",
   "id": "d64df28c-48ec-4dd9-9564-f874da66eccf",
   "metadata": {},
   "source": [
    "Q3. Write a python program to convert the given list of integers into a tuple of strings. Use map and\n",
    "lambda functions\n",
    " - Given String: `[1, 2, 3, 4, 5, 6, 7, 8, 9, 10]`\n",
    " - Expected output: `('1', '2', '3', '4', '5', '6', '7', '8', '9', '10')`"
   ]
  },
  {
   "cell_type": "code",
   "execution_count": 3,
   "id": "be11843e-c7b6-4246-be46-6960533cd76e",
   "metadata": {},
   "outputs": [
    {
     "data": {
      "text/plain": [
       "['1', '2', '3', '4', '5', '6', '7', '8', '9', '10']"
      ]
     },
     "execution_count": 3,
     "metadata": {},
     "output_type": "execute_result"
    }
   ],
   "source": [
    "a = [1, 2, 3, 4, 5, 6, 7, 8, 9, 10]\n",
    "list(map(str, a))"
   ]
  },
  {
   "cell_type": "markdown",
   "id": "aa6e3431-51ab-444c-947d-0235fa14a1d2",
   "metadata": {},
   "source": [
    "Q4. Write a python program using reduce function to compute the product of a list containing numbers\n",
    "from 1 to 25."
   ]
  },
  {
   "cell_type": "code",
   "execution_count": 4,
   "id": "38c33f19-4a08-446f-b3c3-ddf6ea75056e",
   "metadata": {},
   "outputs": [
    {
     "data": {
      "text/plain": [
       "15511210043330985984000000"
      ]
     },
     "execution_count": 4,
     "metadata": {},
     "output_type": "execute_result"
    }
   ],
   "source": [
    "from functools import reduce\n",
    "\n",
    "l = [i for i in range(1, 25 + 1)]\n",
    "reduce(lambda a, b : a * b, l)"
   ]
  },
  {
   "cell_type": "markdown",
   "id": "6b58021f-e627-4c5d-b45b-506a8d33e963",
   "metadata": {},
   "source": [
    "Q5. Write a python program to filter the numbers in a given list that are divisible by 2 and 3 using the\n",
    "filter function.\n",
    "<br/>\n",
    "`[2, 3, 6, 9, 27, 60, 90, 120, 55, 46]`"
   ]
  },
  {
   "cell_type": "code",
   "execution_count": 5,
   "id": "feca14dc-6956-4893-bfba-f40c4929557f",
   "metadata": {},
   "outputs": [
    {
     "data": {
      "text/plain": [
       "[6, 60, 90, 120]"
      ]
     },
     "execution_count": 5,
     "metadata": {},
     "output_type": "execute_result"
    }
   ],
   "source": [
    "l = [2, 3, 6, 9, 27, 60, 90, 120, 55, 46]\n",
    "list(filter(lambda n : n % 2 == 0 and n % 3 == 0, l))"
   ]
  },
  {
   "cell_type": "markdown",
   "id": "79f34538-ca94-47ec-8598-593725d9b992",
   "metadata": {},
   "source": [
    "Q6. Write a python program to find palindromes in the given list of strings using lambda and filter\n",
    "function.\n",
    "<br/>\n",
    "`['python', 'php', 'aba', 'radar', 'level']`"
   ]
  },
  {
   "cell_type": "code",
   "execution_count": null,
   "id": "e4061873-00eb-4038-b855-18ae4f631147",
   "metadata": {},
   "outputs": [],
   "source": []
  }
 ],
 "metadata": {
  "kernelspec": {
   "display_name": "Python 3 (ipykernel)",
   "language": "python",
   "name": "python3"
  },
  "language_info": {
   "codemirror_mode": {
    "name": "ipython",
    "version": 3
   },
   "file_extension": ".py",
   "mimetype": "text/x-python",
   "name": "python",
   "nbconvert_exporter": "python",
   "pygments_lexer": "ipython3",
   "version": "3.10.8"
  }
 },
 "nbformat": 4,
 "nbformat_minor": 5
}
