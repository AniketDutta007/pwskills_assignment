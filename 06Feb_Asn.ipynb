{
 "cells": [
  {
   "cell_type": "markdown",
   "id": "5a816e7b-7784-4aa0-8f06-73c65bcfe908",
   "metadata": {},
   "source": [
    "## Assignment Solution"
   ]
  },
  {
   "cell_type": "markdown",
   "id": "89e152b6-55ff-4ba2-b292-6cf9dd69c725",
   "metadata": {},
   "source": [
    "Q1. Create a function which will take a list as an argument and return the product of all the numbers\n",
    "after creating a flat list.\n",
    "Use the below-given list as an argument for your function.\n",
    "<br/>\n",
    "`list1 = [ 1,2,3,4,[ 44,55,66, True ],False,( 34,56,78,89,34 ),{ 1,2,3,3,2,1 },{ 1:34, \"key2\": [55, 67, 78, 89], 4: (45, 22, 61, 34) },[ 56, 'data science' ], 'Machine Learning']`"
   ]
  },
  {
   "cell_type": "code",
   "execution_count": 14,
   "id": "fba8e864-8bfe-4f11-8d99-31622ba8489d",
   "metadata": {},
   "outputs": [
    {
     "name": "stdout",
     "output_type": "stream",
     "text": [
      "[1, 2, 3, 4, 44, 55, 66, True, 34, 56, 78, 89, 34, 1, 2, 3, 1, 4, 34, 56]\n"
     ]
    },
    {
     "data": {
      "text/plain": [
       "78718933113238978560"
      ]
     },
     "execution_count": 14,
     "metadata": {},
     "output_type": "execute_result"
    }
   ],
   "source": [
    "from functools import reduce\n",
    "from numbers import Number\n",
    "\n",
    "def isValid(n):\n",
    "    return isinstance(n, Number) and n != False\n",
    "\n",
    "def fun(lst):\n",
    "    new_lst = []\n",
    "    for e in lst:\n",
    "        if isValid(e):\n",
    "            new_lst.append(e)\n",
    "        elif isinstance(e, (list, set, tuple)):\n",
    "            for i in e:\n",
    "                if isValid(i):\n",
    "                    new_lst.append(i)\n",
    "        elif isinstance(e, dict):\n",
    "            for i in e.keys():\n",
    "                if isValid(i):\n",
    "                    new_lst.append(i)\n",
    "            for i in e.values():\n",
    "                if isValid(i):\n",
    "                    new_lst.append(i)\n",
    "    # print(new_lst)\n",
    "    return reduce(lambda a, b : a * b, new_lst)\n",
    "\n",
    "list1 = [ 1,2,3,4,\n",
    "         \t[ 44,55,66, True ],\n",
    "         \tFalse,( 34,56,78,89,34 ),\n",
    "         \t{ 1,2,3,3,2,1 },\n",
    "         \t{ 1:34, \"key2\": [55, 67, 78, 89], 4: (45, 22, 61, 34) },\n",
    "         \t[ 56, 'data science' ], \n",
    "         \t'Machine Learning'\n",
    "        ]\n",
    "\n",
    "fun(list1)"
   ]
  },
  {
   "cell_type": "markdown",
   "id": "74d4345a-dad2-4ee8-aee0-0828ec68259a",
   "metadata": {},
   "source": [
    "Q2. Write a python program for encrypting a message sent to you by your friend. The logic of encryption\n",
    "should be such that, for a the output should be z. For b, the output should be y. For c, the output should\n",
    "be x respectively. Also, the whitespace should be replaced with a dollar sign. Keep the punctuation\n",
    "marks unchanged.\n",
    "<br/>\n",
    "Input Sentence: I want to become a Data Scientist.\n",
    "<br/>\n",
    "Encrypt the above input sentence using the program you just created.\n",
    "<br/>\n",
    "Note: Convert the given input sentence into lowercase before encrypting. The final output should be lowercase."
   ]
  },
  {
   "cell_type": "code",
   "execution_count": 27,
   "id": "d4dbad86-636f-4cbc-9236-89e7105c365b",
   "metadata": {},
   "outputs": [
    {
     "data": {
      "text/plain": [
       "'R$dzmg$gl$yvxlnv$z$Wzgz$Hxrvmgrhg.'"
      ]
     },
     "execution_count": 27,
     "metadata": {},
     "output_type": "execute_result"
    }
   ],
   "source": [
    "def encrypt(message):\n",
    "    encrypted = \"\"\n",
    "    for c in list(message):\n",
    "        if c.isalpha():\n",
    "            if c.isupper():\n",
    "                if ord(c) < ord('A') + 13:\n",
    "                    encrypted = encrypted + chr(ord('Z') - ord(c) + ord('A'))\n",
    "                else:\n",
    "                    encrypted = encrypted + chr(ord('A') + ord('Z') - ord(c))\n",
    "            else:\n",
    "                if ord(c) < ord('a') + 13:\n",
    "                    encrypted = encrypted + chr(ord('z') - ord(c) + ord('a'))\n",
    "                else:\n",
    "                    encrypted = encrypted + chr(ord('a') + ord('z') - ord(c))\n",
    "        elif c == ' ':\n",
    "            encrypted = encrypted + '$'\n",
    "        else:\n",
    "            encrypted = encrypted + c\n",
    "                    \n",
    "    return encrypted\n",
    "\n",
    "encrypt(\"I want to become a Data Scientist.\")"
   ]
  }
 ],
 "metadata": {
  "kernelspec": {
   "display_name": "Python 3 (ipykernel)",
   "language": "python",
   "name": "python3"
  },
  "language_info": {
   "codemirror_mode": {
    "name": "ipython",
    "version": 3
   },
   "file_extension": ".py",
   "mimetype": "text/x-python",
   "name": "python",
   "nbconvert_exporter": "python",
   "pygments_lexer": "ipython3",
   "version": "3.10.8"
  }
 },
 "nbformat": 4,
 "nbformat_minor": 5
}
