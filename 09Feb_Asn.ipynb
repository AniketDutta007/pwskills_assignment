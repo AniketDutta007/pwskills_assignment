{
 "cells": [
  {
   "cell_type": "markdown",
   "id": "8aebdbad-d6e4-44dc-be13-2bd330ca0ea2",
   "metadata": {},
   "source": [
    "## Assignment Solution"
   ]
  },
  {
   "cell_type": "markdown",
   "id": "02cb7b33-0afe-455a-b9de-7490f2ef1dbc",
   "metadata": {},
   "source": [
    "Q1. Create a vehicle class with an init method having instance variables as name_of_vehicle, max_speed\n",
    "and average_of_vehicle."
   ]
  },
  {
   "cell_type": "code",
   "execution_count": 1,
   "id": "6ce435dc-8d6c-4ee5-84a0-471581dc4a92",
   "metadata": {},
   "outputs": [],
   "source": [
    "class Vehicle:\n",
    "    def __init__(self, name_of_vehicle, max_speed, average_of_vehicle):\n",
    "        self.name_of_vehicle = name_of_vehicle\n",
    "        self.max_speed = max_speed\n",
    "        self.average_of_vehicle = average_of_vehicle"
   ]
  },
  {
   "cell_type": "markdown",
   "id": "b3adb7e0-2e72-479d-acdd-3ade33ce9485",
   "metadata": {},
   "source": [
    "Q2. Create a child class car from the vehicle class created in Que 1, which will inherit the vehicle class. Create a method named seating_capacity which takes capacity as an argument and returns the name of the vehicle and its seating capacity."
   ]
  },
  {
   "cell_type": "code",
   "execution_count": 9,
   "id": "19484a76-532f-455a-b80a-1ca540dc5ed6",
   "metadata": {},
   "outputs": [],
   "source": [
    "class Scorpio(Vehicle):\n",
    "    def __init__(self):\n",
    "        super().__init__(\"Scorpio\", 165, 15.19)\n",
    "    def seating_capacity(self, capacity):\n",
    "        return (self.name_of_vehicle, capacity)"
   ]
  },
  {
   "cell_type": "code",
   "execution_count": 10,
   "id": "f6a03bfb-32f1-4cab-8e14-7068b25f5000",
   "metadata": {},
   "outputs": [
    {
     "data": {
      "text/plain": [
       "('Scorpio', 8)"
      ]
     },
     "execution_count": 10,
     "metadata": {},
     "output_type": "execute_result"
    }
   ],
   "source": [
    "s = Scorpio()\n",
    "s.seating_capacity(8)"
   ]
  },
  {
   "cell_type": "markdown",
   "id": "ad46e0fa-c856-44ff-9ee5-3af2c77ca3a4",
   "metadata": {},
   "source": [
    "Q3. What is multiple inheritance? Write a python code to demonstrate multiple inheritance."
   ]
  },
  {
   "cell_type": "code",
   "execution_count": 11,
   "id": "ef11f88a-2709-4ef4-8b41-b191a2acfc9f",
   "metadata": {},
   "outputs": [],
   "source": [
    "class Super1:\n",
    "    def method1(self):\n",
    "        print(\"Method 1 of Super 1 class\")"
   ]
  },
  {
   "cell_type": "code",
   "execution_count": 13,
   "id": "f30f08e4-ac6a-42d5-91e0-120218fd6839",
   "metadata": {},
   "outputs": [],
   "source": [
    "class Super2:\n",
    "    def method2(self):\n",
    "        print(\"Method 2 of Super 2 class\")"
   ]
  },
  {
   "cell_type": "code",
   "execution_count": 14,
   "id": "53385427-d821-4180-b6f3-e1aedeaf214c",
   "metadata": {},
   "outputs": [],
   "source": [
    "class Sub(Super1, Super2):\n",
    "    pass"
   ]
  },
  {
   "cell_type": "code",
   "execution_count": 15,
   "id": "7af5006b-ad5d-4565-b06d-3318ce8cb390",
   "metadata": {},
   "outputs": [
    {
     "name": "stdout",
     "output_type": "stream",
     "text": [
      "Method 1 of Super 1 class\n",
      "Method 2 of Super 2 class\n"
     ]
    }
   ],
   "source": [
    "c = Sub()\n",
    "c.method1()\n",
    "c.method2()"
   ]
  },
  {
   "cell_type": "markdown",
   "id": "06a225ee-10fa-4fb2-93ce-2c61f4ed0933",
   "metadata": {},
   "source": [
    "Q4. What are getter and setter in python? Create a class and create a getter and a setter method in this class."
   ]
  },
  {
   "cell_type": "markdown",
   "id": "eade8d79-1e9a-41fc-b747-59f7f2df4d08",
   "metadata": {},
   "source": [
    "Getter and Setter are instance methods, these methods are primarily used to retrieve and assign values of private data members which can't be manipulated directly from outside the class."
   ]
  },
  {
   "cell_type": "code",
   "execution_count": 19,
   "id": "44bcb934-027b-401a-89f0-a4ba0a6858ca",
   "metadata": {},
   "outputs": [],
   "source": [
    "class Test:\n",
    "    def __init__(self, a):\n",
    "        self.__a = a\n",
    "    def get_a(self):\n",
    "        return self.__a\n",
    "    def set_a(self, a):\n",
    "        self.__a = a"
   ]
  },
  {
   "cell_type": "code",
   "execution_count": 20,
   "id": "f65cd9b9-5a0f-41a5-9eb6-fb6b36350e64",
   "metadata": {},
   "outputs": [
    {
     "name": "stdout",
     "output_type": "stream",
     "text": [
      "10\n",
      "20\n"
     ]
    }
   ],
   "source": [
    "t = Test(10)\n",
    "print(t.get_a())\n",
    "t.set_a(20)\n",
    "print(t.get_a())"
   ]
  },
  {
   "cell_type": "markdown",
   "id": "4b59abe2-5f83-4511-8d20-d2f455da305f",
   "metadata": {},
   "source": [
    "Q5.What is method overriding in python? Write a python code to demonstrate method overriding."
   ]
  },
  {
   "cell_type": "markdown",
   "id": "ed3995bc-ea05-43a7-b558-27bc200d16b2",
   "metadata": {},
   "source": [
    "Method Overriding is the property by virtue of which the method of a super class is overriden by the method of a sub class."
   ]
  },
  {
   "cell_type": "code",
   "execution_count": 21,
   "id": "feba7365-41f9-4f07-a9f5-fc94e68d9317",
   "metadata": {},
   "outputs": [],
   "source": [
    "class Super:\n",
    "    def test(self):\n",
    "        print(\"I'm in Super Class\")"
   ]
  },
  {
   "cell_type": "code",
   "execution_count": 22,
   "id": "ca9f5e37-e670-4ee4-be8e-78fa9b560bfd",
   "metadata": {},
   "outputs": [],
   "source": [
    "class Sub(Super):\n",
    "    def test(self):\n",
    "        print(\"I'm in Sub Class\")"
   ]
  },
  {
   "cell_type": "code",
   "execution_count": 25,
   "id": "01c8ae9f-6247-4c67-bd4f-1f03703c6010",
   "metadata": {},
   "outputs": [
    {
     "name": "stdout",
     "output_type": "stream",
     "text": [
      "I'm in Sub Class\n"
     ]
    }
   ],
   "source": [
    "obj = Sub()\n",
    "obj.test() \n",
    "# the super class test method is dominated by the sub class test method \n",
    "# this domination / overriding is known as method overriding"
   ]
  }
 ],
 "metadata": {
  "kernelspec": {
   "display_name": "Python 3 (ipykernel)",
   "language": "python",
   "name": "python3"
  },
  "language_info": {
   "codemirror_mode": {
    "name": "ipython",
    "version": 3
   },
   "file_extension": ".py",
   "mimetype": "text/x-python",
   "name": "python",
   "nbconvert_exporter": "python",
   "pygments_lexer": "ipython3",
   "version": "3.10.8"
  }
 },
 "nbformat": 4,
 "nbformat_minor": 5
}
