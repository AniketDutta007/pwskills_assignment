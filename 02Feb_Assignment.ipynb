{
 "cells": [
  {
   "cell_type": "markdown",
   "id": "06143f76-ee73-418e-adf6-9da16b3d084e",
   "metadata": {},
   "source": [
    "## Asignment Solution"
   ]
  },
  {
   "cell_type": "markdown",
   "id": "cf61dff2-3f74-4065-a53f-bb5cb6d88032",
   "metadata": {},
   "source": [
    "Q1. What are the characteristics of the tuples? Is tuple immutable?"
   ]
  },
  {
   "cell_type": "markdown",
   "id": "de63b9b9-e8fc-422c-b23d-1d795c34a2c4",
   "metadata": {},
   "source": [
    "Tuples are collections similar to list but are immutable in nature as a result they are hashable unlike other growing collections.\n",
    "\n",
    "Yes, tuples are immutable in nature."
   ]
  },
  {
   "cell_type": "markdown",
   "id": "bfad7772-e164-42c4-9098-102e0e0457b3",
   "metadata": {},
   "source": [
    "Q2. What are the two tuple methods in python? Give an example of each method. Give a reason why\n",
    "tuples have only two in-built methods as compared to Lists."
   ]
  },
  {
   "cell_type": "code",
   "execution_count": 1,
   "id": "28ec3d56-814f-4077-b169-2e93c61ea4a5",
   "metadata": {},
   "outputs": [
    {
     "name": "stdout",
     "output_type": "stream",
     "text": [
      "count of 3 is 2\n",
      "first index of 3 is 2\n"
     ]
    }
   ],
   "source": [
    "t = (1, 2, 3, 4, 1, 2, 3)\n",
    "#count()\n",
    "x = 3\n",
    "print(f'count of {x} is {t.count(x)}')\n",
    "#index()\n",
    "print(f'first index of {x} is {t.index(x)}')"
   ]
  },
  {
   "cell_type": "markdown",
   "id": "3a92fdb1-8bf3-499b-9570-9e4d1489fcfc",
   "metadata": {},
   "source": [
    "Tuples only have two built-in methods as they are read-only in nature thus it doesn't require data maipulation methods like append(), insert(), push(), etc it only have searching methods."
   ]
  },
  {
   "cell_type": "markdown",
   "id": "6f090fc9-edea-402d-a982-d0dfa9385562",
   "metadata": {},
   "source": [
    "Q3. Which collection datatypes in python do not allow duplicate items? Write a code using a set to remove duplicates from the given list.\n",
    "<br/>\n",
    "`List = [1, 1, 1, 2, 1, 3, 1, 4, 2, 1, 2, 2, 2, 3, 2, 4, 3, 1, 3, 2, 3, 3, 3, 4, 4, 1, 4, 2, 4, 3, 4, 4]`"
   ]
  },
  {
   "cell_type": "markdown",
   "id": "fe52546d-999d-4a73-8d44-e904987b36c8",
   "metadata": {},
   "source": [
    "Set datatype is used to remove duplicates from a collection."
   ]
  },
  {
   "cell_type": "code",
   "execution_count": 3,
   "id": "8c9495b4-cbf1-4dee-bb90-cd1b8c32bb96",
   "metadata": {},
   "outputs": [
    {
     "name": "stdout",
     "output_type": "stream",
     "text": [
      "[1, 2, 3, 4]\n"
     ]
    }
   ],
   "source": [
    "List = [1, 1, 1, 2, 1, 3, 1, 4, 2, 1, 2, 2, 2, 3, 2, 4, 3, 1, 3, 2, 3, 3, 3, 4, 4, 1, 4, 2, 4, 3, 4, 4]\n",
    "print(list(set(List)))"
   ]
  },
  {
   "cell_type": "markdown",
   "id": "afcb6dc9-6c67-4121-8716-d3d4f3dd3a0e",
   "metadata": {},
   "source": [
    "Q4. Explain the difference between the union() and update() methods for a set. Give an example of each method."
   ]
  },
  {
   "cell_type": "code",
   "execution_count": 8,
   "id": "518b1bc6-8de1-4026-9057-5c93c6b35637",
   "metadata": {},
   "outputs": [
    {
     "name": "stdout",
     "output_type": "stream",
     "text": [
      "{1, 2, 3, 4, 5, 8}\n",
      "{1, 2, 3, 4, 5, 8}\n"
     ]
    }
   ],
   "source": [
    "s1 = {1, 2, 3, 4}\n",
    "s2 = {4, 3, 5, 8}\n",
    "#union\n",
    "print(s1.union(s2))\n",
    "#update\n",
    "s1.update(s2)\n",
    "print(s1)"
   ]
  },
  {
   "cell_type": "markdown",
   "id": "46af3ca5-4666-491b-80c8-af3774491583",
   "metadata": {},
   "source": [
    "`union()` is a union in set operation which return the union of the two set without modifying each of them\n",
    "<br/>\n",
    "`update()` is same as union in set operation but unlike `union()` it is an inplace method which updates the set on which it is called"
   ]
  },
  {
   "cell_type": "markdown",
   "id": "6d050424-d341-4f79-8a16-73464813e76e",
   "metadata": {},
   "source": [
    "Q5. What is a dictionary? Give an example. Also, state whether a dictionary is ordered or unordered."
   ]
  },
  {
   "cell_type": "markdown",
   "id": "354266f8-5a06-4b7d-8fdb-cdb545ef5ba3",
   "metadata": {},
   "source": [
    "A dictionary is also a collection which stores data in key value pairs, where each key is unique in the dictionary and the values are accessed using the keys.\n",
    "<br/>\n",
    "Yes disctionaries are ordered, they are insertion ordered."
   ]
  },
  {
   "cell_type": "code",
   "execution_count": 10,
   "id": "6defaa26-1af0-49b1-ab4f-4bd397ad3cf4",
   "metadata": {},
   "outputs": [],
   "source": [
    "d = {\n",
    "    \"key1\" : \"value1\",\n",
    "    \"key2\" : \"value2\",\n",
    "    \"key3\" : \"value3\"\n",
    "}"
   ]
  },
  {
   "cell_type": "markdown",
   "id": "87ae9942-87e9-4935-9482-17b450bdac5e",
   "metadata": {},
   "source": [
    "Q6. Can we create a nested dictionary? If so, please give an example by creating a simple one-level\n",
    "nested dictionary."
   ]
  },
  {
   "cell_type": "code",
   "execution_count": 11,
   "id": "8f835577-04c3-4034-8351-f0ef6e51ab9e",
   "metadata": {},
   "outputs": [],
   "source": [
    "d = {\n",
    "    \"key1\" : {\n",
    "        \"key11\" : \"value11\",\n",
    "        \"key12\" : \"value12\",\n",
    "    },\n",
    "    \"key2\" : \"value2\"\n",
    "}"
   ]
  },
  {
   "cell_type": "markdown",
   "id": "dd08257d-1cca-4b7b-80a0-920f008ce8da",
   "metadata": {},
   "source": [
    "Q7. Using `setdefault()` method, create key named `topics` in the given dictionary and also add the value of\n",
    "the key as this list `['Python', 'Machine Learning’, 'Deep Learning']`\n",
    "<br/>\n",
    "`dict1 = {'language' : 'Python', 'course': 'Data Science Masters'}`"
   ]
  },
  {
   "cell_type": "code",
   "execution_count": 13,
   "id": "adf4ffba-16d1-4d0f-9421-2efe6737af86",
   "metadata": {},
   "outputs": [
    {
     "name": "stdout",
     "output_type": "stream",
     "text": [
      "{'language': 'Python', 'course': 'Data Science Masters', 'topics': ['Python', 'Machine Learning', 'Deep Learning']}\n"
     ]
    }
   ],
   "source": [
    "dict1 = {\n",
    "    \"language\" : \"Python\", \n",
    "    \"course\": \"Data Science Masters\"\n",
    "}\n",
    "dict1.setdefault(\"topics\", [\"Python\", \"Machine Learning\", \"Deep Learning\"])\n",
    "print(dict1)"
   ]
  },
  {
   "cell_type": "markdown",
   "id": "296ef2f6-8592-496d-8f69-7afdaa2fd792",
   "metadata": {},
   "source": [
    "Q8. What are the three view objects in dictionaries? \n",
    "<br/>\n",
    "Use the three in-built methods in python to display these three view objects for the given dictionary.\n",
    "<br/>\n",
    "`dict1 = {'Sport': 'Cricket' , 'Teams': ['India', 'Australia', 'England', 'South Africa', 'Sri Lanka', 'New Zealand']}`"
   ]
  },
  {
   "cell_type": "markdown",
   "id": "0e163ef1-9882-439a-9af2-0d1d4506b986",
   "metadata": {},
   "source": [
    "The view objects are :\n",
    "<ol>\n",
    "\t<li>dict_keys</li>\n",
    "    <li>dict_values</li>\n",
    "    <li>dict_items</li>\n",
    "</ol>"
   ]
  },
  {
   "cell_type": "code",
   "execution_count": 14,
   "id": "9a5d79ca-6646-47c3-88ad-934bfbbadad4",
   "metadata": {},
   "outputs": [
    {
     "name": "stdout",
     "output_type": "stream",
     "text": [
      "dict_keys(['Sport', 'Teams'])\n",
      "dict_values(['Cricket', ['India', 'Australia', 'England', 'South Africa', 'Sri Lanka', 'New Zealand']])\n",
      "dict_items([('Sport', 'Cricket'), ('Teams', ['India', 'Australia', 'England', 'South Africa', 'Sri Lanka', 'New Zealand'])])\n"
     ]
    }
   ],
   "source": [
    "dict1 = {\n",
    "    \"Sport\": \"Cricket\" , \n",
    "    \"Teams\": [\"India\", \"Australia\", \"England\", \"South Africa\", \"Sri Lanka\", \"New Zealand\"]\n",
    "}\n",
    "#keys()\n",
    "print(dict1.keys())\n",
    "#values()\n",
    "print(dict1.values())\n",
    "#items()\n",
    "print(dict1.items())"
   ]
  }
 ],
 "metadata": {
  "kernelspec": {
   "display_name": "Python 3 (ipykernel)",
   "language": "python",
   "name": "python3"
  },
  "language_info": {
   "codemirror_mode": {
    "name": "ipython",
    "version": 3
   },
   "file_extension": ".py",
   "mimetype": "text/x-python",
   "name": "python",
   "nbconvert_exporter": "python",
   "pygments_lexer": "ipython3",
   "version": "3.10.8"
  }
 },
 "nbformat": 4,
 "nbformat_minor": 5
}
